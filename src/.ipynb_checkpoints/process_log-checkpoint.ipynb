{
 "cells": [
  {
   "cell_type": "code",
   "execution_count": 2,
   "metadata": {
    "collapsed": false
   },
   "outputs": [
    {
     "ename": "IOError",
     "evalue": "[Errno 2] No such file or directory: '../sample_dataset/batch_log.json'",
     "output_type": "error",
     "traceback": [
      "\u001b[0;31m---------------------------------------------------------------------------\u001b[0m",
      "\u001b[0;31mIOError\u001b[0m                                   Traceback (most recent call last)",
      "\u001b[0;32m<ipython-input-2-2d8a1d146637>\u001b[0m in \u001b[0;36m<module>\u001b[0;34m()\u001b[0m\n\u001b[1;32m      7\u001b[0m \u001b[0;34m\u001b[0m\u001b[0m\n\u001b[1;32m      8\u001b[0m \u001b[0mdata\u001b[0m\u001b[0;34m=\u001b[0m\u001b[0;34m[\u001b[0m\u001b[0;34m]\u001b[0m\u001b[0;34m\u001b[0m\u001b[0m\n\u001b[0;32m----> 9\u001b[0;31m \u001b[0mdata_file\u001b[0m \u001b[0;34m=\u001b[0m \u001b[0mopen\u001b[0m\u001b[0;34m(\u001b[0m\u001b[0;34m'../sample_dataset/batch_log.json'\u001b[0m\u001b[0;34m)\u001b[0m\u001b[0;34m\u001b[0m\u001b[0m\n\u001b[0m\u001b[1;32m     10\u001b[0m \u001b[0;32mfor\u001b[0m \u001b[0mline\u001b[0m \u001b[0;32min\u001b[0m \u001b[0mdata_file\u001b[0m\u001b[0;34m:\u001b[0m\u001b[0;34m\u001b[0m\u001b[0m\n\u001b[1;32m     11\u001b[0m     \u001b[0mdata\u001b[0m\u001b[0;34m.\u001b[0m\u001b[0mappend\u001b[0m\u001b[0;34m(\u001b[0m\u001b[0mjson\u001b[0m\u001b[0;34m.\u001b[0m\u001b[0mloads\u001b[0m\u001b[0;34m(\u001b[0m\u001b[0mline\u001b[0m\u001b[0;34m)\u001b[0m\u001b[0;34m)\u001b[0m\u001b[0;34m\u001b[0m\u001b[0m\n",
      "\u001b[0;31mIOError\u001b[0m: [Errno 2] No such file or directory: '../sample_dataset/batch_log.json'"
     ]
    }
   ],
   "source": [
    "import json\n",
    "import time\n",
    "import datetime\n",
    "import collections\n",
    "import heapq\n",
    "import math\n",
    "\n",
    "data=[]\n",
    "data_file = open('../sample_dataset/batch_log.json')\n",
    "for line in data_file:\n",
    "    data.append(json.loads(line))\n",
    "data_file.close()\n",
    "    \n",
    "new_data=[]\n",
    "new_data_file = open('../sample_dataset/stream_log.json')\n",
    "for line in new_data_file:\n",
    "    new_data.append(json.loads(line))\n",
    "new_data_file.close()"
   ]
  },
  {
   "cell_type": "code",
   "execution_count": 66,
   "metadata": {
    "collapsed": false
   },
   "outputs": [],
   "source": [
    "def timestamp(time_str):\n",
    "    \"\"\"\n",
    "    time_str(str): %Y-%m-%d %H:%M:%S in string format\n",
    "    \"\"\"\n",
    "    clock = datetime.datetime.strptime(time_str,\"%Y-%m-%d %H:%M:%S\")\n",
    "    return time.mktime(datetime.datetime.strptime(time_str,\"%Y-%m-%d %H:%M:%S\").timetuple())"
   ]
  },
  {
   "cell_type": "code",
   "execution_count": 67,
   "metadata": {
    "collapsed": false
   },
   "outputs": [
    {
     "data": {
      "text/plain": [
       "1497484010.0"
      ]
     },
     "execution_count": 67,
     "metadata": {},
     "output_type": "execute_result"
    }
   ],
   "source": [
    "timestamp('2017-06-14 18:46:50')"
   ]
  },
  {
   "cell_type": "code",
   "execution_count": 331,
   "metadata": {
    "collapsed": false
   },
   "outputs": [],
   "source": [
    "# class network(object):\n",
    "#     def __init__(self, data_set=[]):\n",
    "#         self.time_label=0\n",
    "#         self.connections=collections.defaultdict(set)\n",
    "#         self.purchases=collections.defaultdict(list)\n",
    "#         self.flagged_purchases=[]\n",
    "        \n",
    "#         self.D=int(data_set[0]['D'])\n",
    "#         self.T=int(data_set[0]['T'])\n",
    "        \n",
    "#         for data in data_set[1:]:\n",
    "#             self.read(data)\n",
    "                \n",
    "#     def read(self, line):\n",
    "#         if line['event_type']=='befriend':\n",
    "#             self.befriend(line['id1'], line['id2'])\n",
    "#         elif line['event_type']=='unfriend':\n",
    "#             self.unfriend(line['id1'], line['id2'])\n",
    "#         elif line['event_type']=='purchase':\n",
    "#             self.purchase(line['id'], line['amount'])\n",
    "        \n",
    "#     def befriend(self, id1, id2):\n",
    "#         self.connections[id1].add(id2)\n",
    "#         self.connections[id2].add(id1)\n",
    "        \n",
    "#     def unfriend(self, id1, id2):\n",
    "#         self.connections[id1].remove(id2)\n",
    "#         self.connections[id2].remove(id1)\n",
    "        \n",
    "#     def purchase(self, customer_id, amount):\n",
    "#         self.purchases[customer_id].append((-self.time_label, amount))\n",
    "#         self.time_label+=1\n",
    "        \n",
    "# #     def getstatistic(self, customer_id):\n",
    "# #         connections=self.getDfriends(customer_id)\n",
    "# #         purchases=[]\n",
    "# #         for person in connections:\n",
    "# #             for purchase in self.purchases[person]:\n",
    "# #                 purchases.append(purchase)\n",
    "        \n",
    "# #         heapq.heapify(purchases)\n",
    "        \n",
    "# #         amounts=[]\n",
    "# #         for _ in xrange(self.T):\n",
    "# #             if purchases:\n",
    "# #                 (_,amount)=heapq.heappop(purchases)\n",
    "# #                 amounts.append(float(amount))\n",
    "        \n",
    "# #         n=len(amounts)\n",
    "# #         mean=sum(amounts)/float(n)\n",
    "# #         sd=math.sqrt(sum([(amount-mean)**2 for amount in amounts])/float(n))\n",
    "        \n",
    "# #         return round(mean,2), round(sd,2)\n",
    "    \n",
    "#     def getstatistic(self, customer_id):\n",
    "#         connections=self.getDfriends(customer_id)\n",
    "#         purchases=[]\n",
    "#         for person in connections:\n",
    "#             for purchase in self.purchases[person]:\n",
    "#                 if len(purchases)<self.T:\n",
    "#                     heapq.heappush(purchases,(-purchase[0],purchase[1]))\n",
    "#                 else:\n",
    "#                     heapq.heappushpop(purchases,(-purchase[0],purchase[1]))\n",
    "                    \n",
    "#         amounts=[float(e[1]) for e in purchases]\n",
    "        \n",
    "#         n=len(amounts)\n",
    "#         mean=sum(amounts)/float(n) if n>0 else 0.\n",
    "#         sd=math.sqrt(sum([(amount-mean)**2 for amount in amounts])/float(n)) if n>0 else 0.\n",
    "        \n",
    "#         return round(mean,2), round(sd,2)\n",
    "        \n",
    "#     def getDfriends(self, customer_id):\n",
    "#         visited=set()\n",
    "#         connections=set()\n",
    "#         queue=collections.deque()\n",
    "#         queue.append((customer_id, 0))\n",
    "#         visited.add(customer_id)\n",
    "#         while queue:\n",
    "#             (connection_id, depth)=queue.popleft()\n",
    "#             if depth<=self.D:\n",
    "#                 connections.add(connection_id)\n",
    "#             else:\n",
    "#                 break\n",
    "#             for e in self.connections[connection_id]:\n",
    "#                 if e not in visited:\n",
    "#                     visited.add(e)\n",
    "#                     queue.append((e, depth+1))\n",
    "        \n",
    "#         connections.remove(customer_id)\n",
    "        \n",
    "#         return connections\n",
    "        \n",
    "#     def read_with_anomaly(self, line):\n",
    "#         if line['event_type']=='befriend':\n",
    "#             self.befriend(line['id1'], line['id2'])\n",
    "#         elif line['event_type']=='unfriend':\n",
    "#             self.unfriend(line['id1'], line['id2'])\n",
    "#         elif line['event_type']=='purchase':\n",
    "#             customer_id=line['id']\n",
    "#             timestamp=line['timestamp']\n",
    "#             amount=float(line['amount'])\n",
    "#             mean, sd=self.getstatistic(customer_id)\n",
    "            \n",
    "#             if amount>mean+3.*sd:\n",
    "#                 new_line={u'event_type': u'purchase', u'timestamp': timestamp, \\\n",
    "#                           u'id': customer_id, u'amount': line['amount'], \\\n",
    "#                           u'mean': \"%.2f\" %mean, u'sd': \"%.2f\" %sd}\n",
    "#                 self.flagged_purchases.append(new_line)\n",
    "            \n",
    "#             self.purchase(line['id'], line['amount'])\n",
    "            \n",
    "#     def read_stream(self, data_set=[]):\n",
    "#         for line in data_set:\n",
    "#             self.read_with_anomaly(line)"
   ]
  },
  {
   "cell_type": "code",
   "execution_count": 348,
   "metadata": {
    "collapsed": true
   },
   "outputs": [],
   "source": [
    "class network(object):\n",
    "    def __init__(self, data_set=[]):\n",
    "        self.time_label=0\n",
    "        self.connections=collections.defaultdict(set)\n",
    "        self.purchases=collections.defaultdict(collections.deque)\n",
    "        self.flagged_purchases=[]\n",
    "        \n",
    "        self.D=int(data_set[0]['D'])\n",
    "        self.T=int(data_set[0]['T'])\n",
    "        \n",
    "        for data in data_set[1:]:\n",
    "            self.read(data)\n",
    "                \n",
    "    def read(self, line):\n",
    "        if line['event_type']=='befriend':\n",
    "            self.befriend(line['id1'], line['id2'])\n",
    "        elif line['event_type']=='unfriend':\n",
    "            self.unfriend(line['id1'], line['id2'])\n",
    "        elif line['event_type']=='purchase':\n",
    "            self.purchase(line['id'], line['amount'])\n",
    "        \n",
    "    def befriend(self, id1, id2):\n",
    "        self.connections[id1].add(id2)\n",
    "        self.connections[id2].add(id1)\n",
    "        \n",
    "    def unfriend(self, id1, id2):\n",
    "        self.connections[id1].remove(id2)\n",
    "        self.connections[id2].remove(id1)\n",
    "        \n",
    "    def purchase(self, customer_id, amount):\n",
    "        self.purchases[customer_id].append((-self.time_label, amount))\n",
    "        if len(self.purchases[customer_id])>self.T:\n",
    "            self.purchases[customer_id].popleft()\n",
    "        self.time_label+=1\n",
    "        \n",
    "#     def getstatistic(self, customer_id):\n",
    "#         connections=self.getDfriends(customer_id)\n",
    "#         purchases=[]\n",
    "#         for person in connections:\n",
    "#             for purchase in self.purchases[person]:\n",
    "#                 purchases.append(purchase)\n",
    "        \n",
    "#         heapq.heapify(purchases)\n",
    "        \n",
    "#         amounts=[]\n",
    "#         for _ in xrange(self.T):\n",
    "#             if purchases:\n",
    "#                 (_,amount)=heapq.heappop(purchases)\n",
    "#                 amounts.append(float(amount))\n",
    "        \n",
    "#         n=len(amounts)\n",
    "#         mean=sum(amounts)/float(n)\n",
    "#         sd=math.sqrt(sum([(amount-mean)**2 for amount in amounts])/float(n))\n",
    "        \n",
    "#         return round(mean,2), round(sd,2)\n",
    "    \n",
    "    def getstatistic(self, customer_id):\n",
    "        connections=self.getDfriends(customer_id)\n",
    "        purchases=[]\n",
    "        for person in connections:\n",
    "            for purchase in self.purchases[person]:\n",
    "                if len(purchases)<self.T:\n",
    "                    heapq.heappush(purchases,(-purchase[0],purchase[1]))\n",
    "                else:\n",
    "                    heapq.heappushpop(purchases,(-purchase[0],purchase[1]))\n",
    "                    \n",
    "        amounts=[float(e[1]) for e in purchases]\n",
    "        \n",
    "        n=len(amounts)\n",
    "        mean=sum(amounts)/float(n) if n>0 else 0.\n",
    "        sd=math.sqrt(sum([(amount-mean)**2 for amount in amounts])/float(n)) if n>0 else 0.\n",
    "        \n",
    "        return round(mean,2), round(sd,2)\n",
    "        \n",
    "    def getDfriends(self, customer_id):\n",
    "        visited=set()\n",
    "        connections=set()\n",
    "        queue=collections.deque()\n",
    "        queue.append((customer_id, 0))\n",
    "        visited.add(customer_id)\n",
    "        while queue:\n",
    "            (connection_id, depth)=queue.popleft()\n",
    "            if depth<=self.D:\n",
    "                connections.add(connection_id)\n",
    "            else:\n",
    "                break\n",
    "            for e in self.connections[connection_id]:\n",
    "                if e not in visited:\n",
    "                    visited.add(e)\n",
    "                    queue.append((e, depth+1))\n",
    "        \n",
    "        connections.remove(customer_id)\n",
    "        \n",
    "        return connections\n",
    "        \n",
    "    def read_with_anomaly(self, line):\n",
    "        if line['event_type']=='befriend':\n",
    "            self.befriend(line['id1'], line['id2'])\n",
    "        elif line['event_type']=='unfriend':\n",
    "            self.unfriend(line['id1'], line['id2'])\n",
    "        elif line['event_type']=='purchase':\n",
    "            customer_id=line['id']\n",
    "            timestamp=line['timestamp']\n",
    "            amount=float(line['amount'])\n",
    "            mean, sd=self.getstatistic(customer_id)\n",
    "            \n",
    "            if amount>mean+3.*sd:\n",
    "                new_line={u'event_type': u'purchase', u'timestamp': timestamp, \\\n",
    "                          u'id': customer_id, u'amount': line['amount'], \\\n",
    "                          u'mean': \"%.2f\" %mean, u'sd': \"%.2f\" %sd}\n",
    "                self.flagged_purchases.append(new_line)\n",
    "            \n",
    "            self.purchase(line['id'], line['amount'])\n",
    "            \n",
    "    def read_stream(self, data_set=[]):\n",
    "        for line in data_set:\n",
    "            self.read_with_anomaly(line)"
   ]
  },
  {
   "cell_type": "code",
   "execution_count": 349,
   "metadata": {
    "collapsed": false
   },
   "outputs": [],
   "source": [
    "social=network(data)"
   ]
  },
  {
   "cell_type": "code",
   "execution_count": 350,
   "metadata": {
    "collapsed": false
   },
   "outputs": [],
   "source": [
    "social.read_stream(new_data)"
   ]
  },
  {
   "cell_type": "code",
   "execution_count": 351,
   "metadata": {
    "collapsed": false
   },
   "outputs": [
    {
     "data": {
      "text/plain": [
       "[{u'amount': u'195.05',\n",
       "  u'event_type': u'purchase',\n",
       "  u'id': u'5802',\n",
       "  u'mean': '53.73',\n",
       "  u'sd': '32.53',\n",
       "  u'timestamp': u'2017-06-14 18:46:50'},\n",
       " {u'amount': u'200.95',\n",
       "  u'event_type': u'purchase',\n",
       "  u'id': u'8736',\n",
       "  u'mean': '64.88',\n",
       "  u'sd': '41.64',\n",
       "  u'timestamp': u'2017-06-14 18:46:50'},\n",
       " {u'amount': u'205.11',\n",
       "  u'event_type': u'purchase',\n",
       "  u'id': u'6878',\n",
       "  u'mean': '66.08',\n",
       "  u'sd': '44.59',\n",
       "  u'timestamp': u'2017-06-14 18:46:50'},\n",
       " {u'amount': u'169.16',\n",
       "  u'event_type': u'purchase',\n",
       "  u'id': u'5551',\n",
       "  u'mean': '66.32',\n",
       "  u'sd': '33.50',\n",
       "  u'timestamp': u'2017-06-14 18:46:50'},\n",
       " {u'amount': u'171.42',\n",
       "  u'event_type': u'purchase',\n",
       "  u'id': u'3445',\n",
       "  u'mean': '54.97',\n",
       "  u'sd': '35.64',\n",
       "  u'timestamp': u'2017-06-14 18:46:50'},\n",
       " {u'amount': u'219.00',\n",
       "  u'event_type': u'purchase',\n",
       "  u'id': u'246',\n",
       "  u'mean': '63.50',\n",
       "  u'sd': '39.32',\n",
       "  u'timestamp': u'2017-06-14 18:46:50'},\n",
       " {u'amount': u'216.24',\n",
       "  u'event_type': u'purchase',\n",
       "  u'id': u'9351',\n",
       "  u'mean': '70.93',\n",
       "  u'sd': '44.75',\n",
       "  u'timestamp': u'2017-06-14 18:46:50'},\n",
       " {u'amount': u'182.45',\n",
       "  u'event_type': u'purchase',\n",
       "  u'id': u'8090',\n",
       "  u'mean': '61.99',\n",
       "  u'sd': '35.73',\n",
       "  u'timestamp': u'2017-06-14 18:46:50'},\n",
       " {u'amount': u'168.98',\n",
       "  u'event_type': u'purchase',\n",
       "  u'id': u'1152',\n",
       "  u'mean': '56.75',\n",
       "  u'sd': '35.07',\n",
       "  u'timestamp': u'2017-06-14 18:46:50'}]"
      ]
     },
     "execution_count": 351,
     "metadata": {},
     "output_type": "execute_result"
    }
   ],
   "source": [
    "social.flagged_purchases"
   ]
  },
  {
   "cell_type": "code",
   "execution_count": 352,
   "metadata": {
    "collapsed": false
   },
   "outputs": [],
   "source": [
    "data_file = open('../sample_dataset/flagged_purchases.json','w')\n",
    "for line in social.flagged_purchases:\n",
    "    target = json.dumps(line)\n",
    "    data_file.write(target)\n",
    "    data_file.write('\\n')\n",
    "data_file.close()"
   ]
  },
  {
   "cell_type": "code",
   "execution_count": 5,
   "metadata": {
    "collapsed": false
   },
   "outputs": [],
   "source": [
    "diff=time.mktime(time.strptime('2017-06-14 18:46:50',\"%Y-%m-%d %H:%M:%S\"))\\\n",
    "-time.mktime(time.strptime('2017-05-14 18:46:50',\"%Y-%m-%d %H:%M:%S\"))"
   ]
  },
  {
   "cell_type": "code",
   "execution_count": 9,
   "metadata": {
    "collapsed": false
   },
   "outputs": [
    {
     "data": {
      "text/plain": [
       "31.0"
      ]
     },
     "execution_count": 9,
     "metadata": {},
     "output_type": "execute_result"
    }
   ],
   "source": [
    "diff/60/60/24"
   ]
  },
  {
   "cell_type": "code",
   "execution_count": null,
   "metadata": {
    "collapsed": true
   },
   "outputs": [],
   "source": []
  }
 ],
 "metadata": {
  "kernelspec": {
   "display_name": "Python 2",
   "language": "python",
   "name": "python2"
  },
  "language_info": {
   "codemirror_mode": {
    "name": "ipython",
    "version": 2
   },
   "file_extension": ".py",
   "mimetype": "text/x-python",
   "name": "python",
   "nbconvert_exporter": "python",
   "pygments_lexer": "ipython2",
   "version": "2.7.12"
  }
 },
 "nbformat": 4,
 "nbformat_minor": 2
}
